{
 "cells": [
  {
   "cell_type": "markdown",
   "metadata": {},
   "source": [
    "# Requirements"
   ]
  },
  {
   "cell_type": "markdown",
   "metadata": {},
   "source": [
    "Requieres [Ollama](https://ollama.com/) with the [llama3](https://ollama.com/library/llama3) model to be installed"
   ]
  },
  {
   "cell_type": "code",
   "execution_count": 1,
   "metadata": {},
   "outputs": [],
   "source": [
    "# Required Packages\n",
    "\n",
    "# !pip install streamlit\n",
    "# !pip install ollama\n",
    "# !pip install langchain\n",
    "# !pip install langchain-chroma\n",
    "# !pip install langchain-community\n",
    "# !pip install langchain-ollama\n",
    "# !pip install chromadb"
   ]
  },
  {
   "cell_type": "markdown",
   "metadata": {},
   "source": [
    "# Load Webpage"
   ]
  },
  {
   "cell_type": "code",
   "execution_count": 2,
   "metadata": {},
   "outputs": [
    {
     "name": "stderr",
     "output_type": "stream",
     "text": [
      "USER_AGENT environment variable not set, consider setting it to identify your requests.\n"
     ]
    }
   ],
   "source": [
    "from langchain_community.document_loaders import WebBaseLoader\n",
    "\n",
    "webpage_url = \"https://en.wikipedia.org/wiki/Kempten_University_of_Applied_Sciences\"\n",
    "loader = WebBaseLoader(webpage_url)\n",
    "docs = loader.load()"
   ]
  },
  {
   "cell_type": "code",
   "execution_count": 3,
   "metadata": {},
   "outputs": [],
   "source": [
    "from langchain.text_splitter import RecursiveCharacterTextSplitter\n",
    "\n",
    "text_splitter = RecursiveCharacterTextSplitter(chunk_size=500, chunk_overlap=0)\n",
    "splits = text_splitter.split_documents(docs)"
   ]
  },
  {
   "cell_type": "markdown",
   "metadata": {},
   "source": [
    "# Vector data base"
   ]
  },
  {
   "cell_type": "code",
   "execution_count": 4,
   "metadata": {},
   "outputs": [],
   "source": [
    "from langchain_ollama import OllamaEmbeddings\n",
    "\n",
    "embeddings = OllamaEmbeddings(model=\"llama3\")"
   ]
  },
  {
   "cell_type": "code",
   "execution_count": 5,
   "metadata": {},
   "outputs": [],
   "source": [
    "from langchain_chroma import Chroma\n",
    "\n",
    "vector_store = Chroma.from_documents(splits, embeddings)"
   ]
  },
  {
   "cell_type": "markdown",
   "metadata": {},
   "source": [
    "# RAG chain"
   ]
  },
  {
   "cell_type": "code",
   "execution_count": 6,
   "metadata": {},
   "outputs": [],
   "source": [
    "def combine_docs(docs):\n",
    "    return \"\\n\\n\".join(doc.page_content for doc in docs)"
   ]
  },
  {
   "cell_type": "code",
   "execution_count": 7,
   "metadata": {},
   "outputs": [],
   "source": [
    "def retrieve_context(question):\n",
    "    retriever = vector_store.as_retriever(k=5)\n",
    "    retrieved_docs = retriever.invoke(question)\n",
    "    return combine_docs(retrieved_docs)"
   ]
  },
  {
   "cell_type": "code",
   "execution_count": 8,
   "metadata": {},
   "outputs": [],
   "source": [
    "import ollama\n",
    "\n",
    "def ollama_llm(question, context):\n",
    "    response = ollama.chat(model='llama3', messages=[\n",
    "        {\n",
    "            'role': 'system', \n",
    "            'content': f\"Answer the following question based on the context from {webpage_url}:\\n\\n{context}\"\n",
    "        },\n",
    "        {\n",
    "            'role': 'user', \n",
    "            'content': question\n",
    "        }])\n",
    "    return response['message']['content']"
   ]
  },
  {
   "cell_type": "code",
   "execution_count": 9,
   "metadata": {},
   "outputs": [
    {
     "name": "stdout",
     "output_type": "stream",
     "text": [
      "Faculties[edit]\n",
      "The Kempten University of Applied Sciences has the following faculties:\n",
      "\n",
      "Business Administration\n",
      "Electrical Engineering\n",
      "Computer Science\n",
      "Mechanical Engineering\n",
      "Social and Health Studies\n",
      "Tourism Management\n",
      "Cooperations[edit]\n",
      "The Kempten University of Applied Sciences is part of the Internationale Bodensee-Hochschule. Besides there are 80 Universities outside of Germany which have a cooperation with the Kempten University of Applied Sciences.\n",
      "\n",
      "References[edit]\n",
      "\n",
      "Kempten University of Applied SciencesHochschule KemptenGebäude der Hochschule KemptenTypePublicEstablished1977PresidentRobert F. SchmidtAcademic staffabout 300[1]Students4,644[1]LocationKempten im Allgäu, Bavaria, Germany47°42′57″N 10°18′49″E﻿ / ﻿47.7158333333°N 10.3136111111°E﻿ / 47.7158333333; 10.3136111111Websitewww.hochschule-kempten.de\n",
      "The Kempten University of Applied Sciences or Hochschule Kempten is a university of applied sciences in Kempten im Allgäu, Germany.\n",
      "\n",
      "Retrieved from \"https://en.wikipedia.org/w/index.php?title=Kempten_University_of_Applied_Sciences&oldid=1248212352\"\n",
      "\n",
      "This page was last edited on 28 September 2024, at 07:46 (UTC).\n",
      "Text is available under the Creative Commons Attribution-ShareAlike 4.0 License;\n",
      "additional terms may apply. By using this site, you agree to the Terms of Use and Privacy Policy. Wikipedia® is a registered trademark of the Wikimedia Foundation, Inc., a non-profit organization.\n",
      "\n",
      "\n",
      "Privacy policy\n",
      "About Wikipedia\n",
      "Disclaimers\n",
      "Contact Wikipedia\n",
      "Code of Conduct\n",
      "Developers\n",
      "Statistics\n",
      "Cookie statement\n",
      "Mobile view\n"
     ]
    }
   ],
   "source": [
    "question = \"When was Kempten University of Applied Sciences founded?\"\n",
    "\n",
    "context = retrieve_context(question)\n",
    "print(context)"
   ]
  },
  {
   "cell_type": "code",
   "execution_count": 10,
   "metadata": {},
   "outputs": [
    {
     "name": "stdout",
     "output_type": "stream",
     "text": [
      "According to the provided Wikipedia article, the Kempten University of Applied Sciences was established in 1977.\n"
     ]
    }
   ],
   "source": [
    "response = ollama_llm(question, context)\n",
    "print(response)"
   ]
  },
  {
   "cell_type": "code",
   "execution_count": null,
   "metadata": {},
   "outputs": [],
   "source": []
  }
 ],
 "metadata": {
  "kernelspec": {
   "display_name": "Python 3",
   "language": "python",
   "name": "python3"
  },
  "language_info": {
   "codemirror_mode": {
    "name": "ipython",
    "version": 3
   },
   "file_extension": ".py",
   "mimetype": "text/x-python",
   "name": "python",
   "nbconvert_exporter": "python",
   "pygments_lexer": "ipython3",
   "version": "3.11.3"
  }
 },
 "nbformat": 4,
 "nbformat_minor": 2
}
