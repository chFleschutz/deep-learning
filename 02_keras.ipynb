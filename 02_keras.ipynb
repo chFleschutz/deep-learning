{
 "cells": [
  {
   "cell_type": "markdown",
   "metadata": {},
   "source": [
    "# 1. Prepare Data"
   ]
  },
  {
   "cell_type": "code",
   "execution_count": 1,
   "metadata": {},
   "outputs": [],
   "source": [
    "import pandas\n",
    "\n",
    "# Load the data\n",
    "file_name = \"used_cars_autoscout24.csv\"\n",
    "data = pandas.read_csv(file_name)\n",
    "data[\"power_ps\"] = pandas.to_numeric(data[\"power_ps\"], errors='coerce')\n",
    "data[\"price_in_euro\"] = pandas.to_numeric(data[\"price_in_euro\"], errors='coerce')\n",
    "data[\"year\"] = pandas.to_numeric(data[\"year\"], errors='coerce')\n",
    "\n",
    "# Clean the data\n",
    "clean_data = data[ [\"brand\", \"model\", \"color\", \"transmission_type\", \n",
    "                    \"year\", \"mileage_in_km\", \"power_ps\", \"price_in_euro\"] ]\n",
    "clean_data = clean_data.dropna(axis=\"rows\")\n",
    "clean_data = pandas.get_dummies(clean_data)\n",
    "\n",
    "# Train-test split\n",
    "from sklearn.model_selection import train_test_split\n",
    "x = clean_data.drop(\"price_in_euro\", axis=\"columns\")\n",
    "y = clean_data[ [\"price_in_euro\"] ]\n",
    "x_train, x_test, y_train, y_test = train_test_split(x, y, test_size=0.2)\n",
    "\n",
    "# Scaling\n",
    "from sklearn.preprocessing import MinMaxScaler\n",
    "s_input = MinMaxScaler(feature_range=(0,1))\n",
    "s_output = MinMaxScaler(feature_range=(0,1))\n",
    "s_input.fit(x_train)\n",
    "s_output.fit(y_train)\n",
    "x_train_scaled = s_input.transform(x_train)\n",
    "y_train_scaled = s_output.transform(y_train)\n",
    "x_test_scaled = s_input.transform(x_test)\n",
    "y_test_scaled = s_output.transform(y_test)"
   ]
  },
  {
   "cell_type": "markdown",
   "metadata": {},
   "source": [
    "# 2. Keras NN"
   ]
  },
  {
   "cell_type": "code",
   "execution_count": 2,
   "metadata": {},
   "outputs": [
    {
     "name": "stdout",
     "output_type": "stream",
     "text": [
      "Train\n",
      "Epoch 1/5\n",
      "\u001b[1m6264/6264\u001b[0m \u001b[32m━━━━━━━━━━━━━━━━━━━━\u001b[0m\u001b[37m\u001b[0m \u001b[1m5s\u001b[0m 692us/step - loss: 0.0019\n",
      "Epoch 2/5\n",
      "\u001b[1m6264/6264\u001b[0m \u001b[32m━━━━━━━━━━━━━━━━━━━━\u001b[0m\u001b[37m\u001b[0m \u001b[1m4s\u001b[0m 684us/step - loss: 7.5334e-04\n",
      "Epoch 3/5\n",
      "\u001b[1m6264/6264\u001b[0m \u001b[32m━━━━━━━━━━━━━━━━━━━━\u001b[0m\u001b[37m\u001b[0m \u001b[1m4s\u001b[0m 685us/step - loss: 7.0855e-04\n",
      "Epoch 4/5\n",
      "\u001b[1m6264/6264\u001b[0m \u001b[32m━━━━━━━━━━━━━━━━━━━━\u001b[0m\u001b[37m\u001b[0m \u001b[1m4s\u001b[0m 680us/step - loss: 6.8723e-04\n",
      "Epoch 5/5\n",
      "\u001b[1m6264/6264\u001b[0m \u001b[32m━━━━━━━━━━━━━━━━━━━━\u001b[0m\u001b[37m\u001b[0m \u001b[1m4s\u001b[0m 681us/step - loss: 6.7349e-04\n",
      "\n",
      "Evalutate\n",
      "\u001b[1m1566/1566\u001b[0m \u001b[32m━━━━━━━━━━━━━━━━━━━━\u001b[0m\u001b[37m\u001b[0m \u001b[1m1s\u001b[0m 545us/step\n",
      "Mean absolute error: 4065.79 €\n",
      "Mean absolute percentage error: 18.08 %\n"
     ]
    }
   ],
   "source": [
    "from tensorflow import keras\n",
    "\n",
    "# Create the model\n",
    "input_count = x_train.shape[1]\n",
    "\n",
    "model = keras.models.Sequential()\n",
    "model.add(keras.layers.InputLayer(shape=(input_count,)))\n",
    "model.add(keras.layers.Dense(64, activation=\"relu\"))\n",
    "model.add(keras.layers.Dense(8, activation=\"relu\"))\n",
    "model.add(keras.layers.Dense(1, activation=None))\n",
    "\n",
    "model.compile(optimizer=\"adam\", loss=\"mean_absolute_error\")\n",
    "\n",
    "# Train the model\n",
    "print(\"Train\")\n",
    "history = model.fit(x_train_scaled, y_train_scaled, epochs=5)\n",
    "\n",
    "# Evaluate the model\n",
    "print(\"\\nEvalutate\")\n",
    "predicts = model.predict(x_test_scaled)\n",
    "predicts_real = s_output.inverse_transform(predicts).flatten()\n",
    "ground_truth_real = y_test.values.flatten()\n",
    "\n",
    "# Mean absolute error\n",
    "from sklearn.metrics import mean_absolute_error\n",
    "mae = mean_absolute_error(ground_truth_real, predicts_real)\n",
    "print(f\"Mean absolute error: {mae:.2f} €\")\n",
    "\n",
    "# Mean absolute percentage error\n",
    "from sklearn.metrics import mean_absolute_percentage_error\n",
    "mape = mean_absolute_percentage_error(ground_truth_real, predicts_real)\n",
    "print(f\"Mean absolute percentage error: {mape*100:.2f} %\")"
   ]
  }
 ],
 "metadata": {
  "kernelspec": {
   "display_name": "Python 3",
   "language": "python",
   "name": "python3"
  },
  "language_info": {
   "codemirror_mode": {
    "name": "ipython",
    "version": 3
   },
   "file_extension": ".py",
   "mimetype": "text/x-python",
   "name": "python",
   "nbconvert_exporter": "python",
   "pygments_lexer": "ipython3",
   "version": "3.11.3"
  }
 },
 "nbformat": 4,
 "nbformat_minor": 2
}
