{
 "cells": [
  {
   "cell_type": "markdown",
   "id": "6c59c194",
   "metadata": {},
   "source": [
    "# Prerequisites"
   ]
  },
  {
   "cell_type": "code",
   "execution_count": 2,
   "id": "d4db9f30",
   "metadata": {},
   "outputs": [
    {
     "name": "stdout",
     "output_type": "stream",
     "text": [
      "Requirement already satisfied: scikit-learn in c:\\users\\chfle\\appdata\\local\\programs\\python\\python311\\lib\\site-packages (1.5.2)\n",
      "Requirement already satisfied: numpy>=1.19.5 in c:\\users\\chfle\\appdata\\local\\programs\\python\\python311\\lib\\site-packages (from scikit-learn) (2.1.2)\n",
      "Requirement already satisfied: scipy>=1.6.0 in c:\\users\\chfle\\appdata\\local\\programs\\python\\python311\\lib\\site-packages (from scikit-learn) (1.14.1)\n",
      "Requirement already satisfied: joblib>=1.2.0 in c:\\users\\chfle\\appdata\\local\\programs\\python\\python311\\lib\\site-packages (from scikit-learn) (1.4.2)\n",
      "Requirement already satisfied: threadpoolctl>=3.1.0 in c:\\users\\chfle\\appdata\\local\\programs\\python\\python311\\lib\\site-packages (from scikit-learn) (3.5.0)\n",
      "Note: you may need to restart the kernel to use updated packages.\n"
     ]
    },
    {
     "name": "stderr",
     "output_type": "stream",
     "text": [
      "\n",
      "[notice] A new release of pip is available: 24.2 -> 24.3.1\n",
      "[notice] To update, run: python.exe -m pip install --upgrade pip\n"
     ]
    },
    {
     "name": "stdout",
     "output_type": "stream",
     "text": [
      "Requirement already satisfied: pandas in c:\\users\\chfle\\appdata\\local\\programs\\python\\python311\\lib\\site-packages (2.2.3)\n",
      "Requirement already satisfied: numpy>=1.23.2 in c:\\users\\chfle\\appdata\\local\\programs\\python\\python311\\lib\\site-packages (from pandas) (2.1.2)\n",
      "Requirement already satisfied: python-dateutil>=2.8.2 in c:\\users\\chfle\\appdata\\local\\programs\\python\\python311\\lib\\site-packages (from pandas) (2.9.0.post0)\n",
      "Requirement already satisfied: pytz>=2020.1 in c:\\users\\chfle\\appdata\\local\\programs\\python\\python311\\lib\\site-packages (from pandas) (2024.2)\n",
      "Requirement already satisfied: tzdata>=2022.7 in c:\\users\\chfle\\appdata\\local\\programs\\python\\python311\\lib\\site-packages (from pandas) (2024.2)\n",
      "Requirement already satisfied: six>=1.5 in c:\\users\\chfle\\appdata\\local\\programs\\python\\python311\\lib\\site-packages (from python-dateutil>=2.8.2->pandas) (1.16.0)\n",
      "Note: you may need to restart the kernel to use updated packages.\n"
     ]
    },
    {
     "name": "stderr",
     "output_type": "stream",
     "text": [
      "\n",
      "[notice] A new release of pip is available: 24.2 -> 24.3.1\n",
      "[notice] To update, run: python.exe -m pip install --upgrade pip\n"
     ]
    },
    {
     "name": "stdout",
     "output_type": "stream",
     "text": [
      "Requirement already satisfied: matplotlib in c:\\users\\chfle\\appdata\\local\\programs\\python\\python311\\lib\\site-packages (3.9.2)\n",
      "Requirement already satisfied: contourpy>=1.0.1 in c:\\users\\chfle\\appdata\\local\\programs\\python\\python311\\lib\\site-packages (from matplotlib) (1.3.0)\n",
      "Requirement already satisfied: cycler>=0.10 in c:\\users\\chfle\\appdata\\local\\programs\\python\\python311\\lib\\site-packages (from matplotlib) (0.12.1)\n",
      "Requirement already satisfied: fonttools>=4.22.0 in c:\\users\\chfle\\appdata\\local\\programs\\python\\python311\\lib\\site-packages (from matplotlib) (4.54.1)\n",
      "Requirement already satisfied: kiwisolver>=1.3.1 in c:\\users\\chfle\\appdata\\local\\programs\\python\\python311\\lib\\site-packages (from matplotlib) (1.4.7)\n",
      "Requirement already satisfied: numpy>=1.23 in c:\\users\\chfle\\appdata\\local\\programs\\python\\python311\\lib\\site-packages (from matplotlib) (2.1.2)\n",
      "Requirement already satisfied: packaging>=20.0 in c:\\users\\chfle\\appdata\\local\\programs\\python\\python311\\lib\\site-packages (from matplotlib) (24.1)\n",
      "Requirement already satisfied: pillow>=8 in c:\\users\\chfle\\appdata\\local\\programs\\python\\python311\\lib\\site-packages (from matplotlib) (11.0.0)\n",
      "Requirement already satisfied: pyparsing>=2.3.1 in c:\\users\\chfle\\appdata\\local\\programs\\python\\python311\\lib\\site-packages (from matplotlib) (3.2.0)\n",
      "Requirement already satisfied: python-dateutil>=2.7 in c:\\users\\chfle\\appdata\\local\\programs\\python\\python311\\lib\\site-packages (from matplotlib) (2.9.0.post0)\n",
      "Requirement already satisfied: six>=1.5 in c:\\users\\chfle\\appdata\\local\\programs\\python\\python311\\lib\\site-packages (from python-dateutil>=2.7->matplotlib) (1.16.0)\n",
      "Note: you may need to restart the kernel to use updated packages.\n"
     ]
    },
    {
     "name": "stderr",
     "output_type": "stream",
     "text": [
      "\n",
      "[notice] A new release of pip is available: 24.2 -> 24.3.1\n",
      "[notice] To update, run: python.exe -m pip install --upgrade pip\n"
     ]
    }
   ],
   "source": [
    "%pip install scikit-learn\n",
    "%pip install pandas\n",
    "%pip install matplotlib"
   ]
  },
  {
   "cell_type": "markdown",
   "id": "b0ae5d54-1e80-4748-90b6-3bacde1d76b0",
   "metadata": {},
   "source": [
    "# 1. Download Dataset"
   ]
  },
  {
   "cell_type": "code",
   "execution_count": 3,
   "id": "e1cd2d92-8bbd-4e13-93ad-8237f1d8f06a",
   "metadata": {},
   "outputs": [],
   "source": [
    "filename = \"used_cars_autoscout24.csv\"\n",
    "URL = \"http://www.juergenbrauer.org/datasets/\" + filename\n",
    "\n",
    "# import urllib.request\n",
    "# urllib.request.urlretrieve(URL, filename)"
   ]
  },
  {
   "cell_type": "markdown",
   "id": "660966fc-5f2c-42d2-ac7d-ec00ca80dcc8",
   "metadata": {},
   "source": [
    "# 2. Read Data"
   ]
  },
  {
   "cell_type": "code",
   "execution_count": 4,
   "id": "0e6e2ea7-62e1-44e6-8d8e-6036d9ef8f81",
   "metadata": {},
   "outputs": [
    {
     "data": {
      "text/html": [
       "<div>\n",
       "<style scoped>\n",
       "    .dataframe tbody tr th:only-of-type {\n",
       "        vertical-align: middle;\n",
       "    }\n",
       "\n",
       "    .dataframe tbody tr th {\n",
       "        vertical-align: top;\n",
       "    }\n",
       "\n",
       "    .dataframe thead th {\n",
       "        text-align: right;\n",
       "    }\n",
       "</style>\n",
       "<table border=\"1\" class=\"dataframe\">\n",
       "  <thead>\n",
       "    <tr style=\"text-align: right;\">\n",
       "      <th></th>\n",
       "      <th>Unnamed: 0</th>\n",
       "      <th>brand</th>\n",
       "      <th>model</th>\n",
       "      <th>color</th>\n",
       "      <th>registration_date</th>\n",
       "      <th>year</th>\n",
       "      <th>price_in_euro</th>\n",
       "      <th>power_kw</th>\n",
       "      <th>power_ps</th>\n",
       "      <th>transmission_type</th>\n",
       "      <th>fuel_type</th>\n",
       "      <th>fuel_consumption_l_100km</th>\n",
       "      <th>fuel_consumption_g_km</th>\n",
       "      <th>mileage_in_km</th>\n",
       "      <th>offer_description</th>\n",
       "    </tr>\n",
       "  </thead>\n",
       "  <tbody>\n",
       "    <tr>\n",
       "      <th>0</th>\n",
       "      <td>0</td>\n",
       "      <td>alfa-romeo</td>\n",
       "      <td>Alfa Romeo GTV</td>\n",
       "      <td>red</td>\n",
       "      <td>10/1995</td>\n",
       "      <td>1995</td>\n",
       "      <td>1300</td>\n",
       "      <td>148</td>\n",
       "      <td>201</td>\n",
       "      <td>Manual</td>\n",
       "      <td>Petrol</td>\n",
       "      <td>10,9 l/100 km</td>\n",
       "      <td>260 g/km</td>\n",
       "      <td>160500.0</td>\n",
       "      <td>2.0 V6 TB</td>\n",
       "    </tr>\n",
       "    <tr>\n",
       "      <th>1</th>\n",
       "      <td>1</td>\n",
       "      <td>alfa-romeo</td>\n",
       "      <td>Alfa Romeo 164</td>\n",
       "      <td>black</td>\n",
       "      <td>02/1995</td>\n",
       "      <td>1995</td>\n",
       "      <td>24900</td>\n",
       "      <td>191</td>\n",
       "      <td>260</td>\n",
       "      <td>Manual</td>\n",
       "      <td>Petrol</td>\n",
       "      <td>NaN</td>\n",
       "      <td>- (g/km)</td>\n",
       "      <td>190000.0</td>\n",
       "      <td>Q4 Allrad, 3.2L GTA</td>\n",
       "    </tr>\n",
       "    <tr>\n",
       "      <th>2</th>\n",
       "      <td>2</td>\n",
       "      <td>alfa-romeo</td>\n",
       "      <td>Alfa Romeo Spider</td>\n",
       "      <td>black</td>\n",
       "      <td>02/1995</td>\n",
       "      <td>1995</td>\n",
       "      <td>5900</td>\n",
       "      <td>110</td>\n",
       "      <td>150</td>\n",
       "      <td>Unknown</td>\n",
       "      <td>Petrol</td>\n",
       "      <td>NaN</td>\n",
       "      <td>- (g/km)</td>\n",
       "      <td>129000.0</td>\n",
       "      <td>ALFA ROME 916</td>\n",
       "    </tr>\n",
       "    <tr>\n",
       "      <th>3</th>\n",
       "      <td>3</td>\n",
       "      <td>alfa-romeo</td>\n",
       "      <td>Alfa Romeo Spider</td>\n",
       "      <td>black</td>\n",
       "      <td>07/1995</td>\n",
       "      <td>1995</td>\n",
       "      <td>4900</td>\n",
       "      <td>110</td>\n",
       "      <td>150</td>\n",
       "      <td>Manual</td>\n",
       "      <td>Petrol</td>\n",
       "      <td>9,5 l/100 km</td>\n",
       "      <td>225 g/km</td>\n",
       "      <td>189500.0</td>\n",
       "      <td>2.0 16V Twin Spark L</td>\n",
       "    </tr>\n",
       "    <tr>\n",
       "      <th>4</th>\n",
       "      <td>4</td>\n",
       "      <td>alfa-romeo</td>\n",
       "      <td>Alfa Romeo 164</td>\n",
       "      <td>red</td>\n",
       "      <td>11/1996</td>\n",
       "      <td>1996</td>\n",
       "      <td>17950</td>\n",
       "      <td>132</td>\n",
       "      <td>179</td>\n",
       "      <td>Manual</td>\n",
       "      <td>Petrol</td>\n",
       "      <td>7,2 l/100 km</td>\n",
       "      <td>- (g/km)</td>\n",
       "      <td>96127.0</td>\n",
       "      <td>3.0i Super V6, absoluter Topzustand !</td>\n",
       "    </tr>\n",
       "  </tbody>\n",
       "</table>\n",
       "</div>"
      ],
      "text/plain": [
       "   Unnamed: 0       brand              model  color registration_date  year  \\\n",
       "0           0  alfa-romeo     Alfa Romeo GTV    red           10/1995  1995   \n",
       "1           1  alfa-romeo     Alfa Romeo 164  black           02/1995  1995   \n",
       "2           2  alfa-romeo  Alfa Romeo Spider  black           02/1995  1995   \n",
       "3           3  alfa-romeo  Alfa Romeo Spider  black           07/1995  1995   \n",
       "4           4  alfa-romeo     Alfa Romeo 164    red           11/1996  1996   \n",
       "\n",
       "  price_in_euro power_kw power_ps transmission_type fuel_type  \\\n",
       "0          1300      148      201            Manual    Petrol   \n",
       "1         24900      191      260            Manual    Petrol   \n",
       "2          5900      110      150           Unknown    Petrol   \n",
       "3          4900      110      150            Manual    Petrol   \n",
       "4         17950      132      179            Manual    Petrol   \n",
       "\n",
       "  fuel_consumption_l_100km fuel_consumption_g_km  mileage_in_km  \\\n",
       "0            10,9 l/100 km              260 g/km       160500.0   \n",
       "1                      NaN              - (g/km)       190000.0   \n",
       "2                      NaN              - (g/km)       129000.0   \n",
       "3             9,5 l/100 km              225 g/km       189500.0   \n",
       "4             7,2 l/100 km              - (g/km)        96127.0   \n",
       "\n",
       "                       offer_description  \n",
       "0                              2.0 V6 TB  \n",
       "1                    Q4 Allrad, 3.2L GTA  \n",
       "2                          ALFA ROME 916  \n",
       "3                   2.0 16V Twin Spark L  \n",
       "4  3.0i Super V6, absoluter Topzustand !  "
      ]
     },
     "execution_count": 4,
     "metadata": {},
     "output_type": "execute_result"
    }
   ],
   "source": [
    "import pandas\n",
    "table = pandas.read_csv(filename)\n",
    "table.head(5)"
   ]
  },
  {
   "cell_type": "markdown",
   "id": "60186961-d3f4-4df4-94d4-5324b3dc97e7",
   "metadata": {},
   "source": [
    "# 3. Clean Data"
   ]
  },
  {
   "cell_type": "code",
   "execution_count": 5,
   "id": "ece068fd-99af-40b5-b884-4e5121ad89d6",
   "metadata": {},
   "outputs": [
    {
     "name": "stderr",
     "output_type": "stream",
     "text": [
      "C:\\Users\\chfle\\AppData\\Local\\Temp\\ipykernel_17124\\60134713.py:1: UserWarning: Could not infer format, so each element will be parsed individually, falling back to `dateutil`. To ensure parsing is consistent and as-expected, please specify a format.\n",
      "  table[\"registration_date\"] = pandas.to_datetime(table[\"registration_date\"], errors=\"coerce\")\n"
     ]
    },
    {
     "name": "stdout",
     "output_type": "stream",
     "text": [
      "<class 'pandas.core.frame.DataFrame'>\n",
      "RangeIndex: 251079 entries, 0 to 251078\n",
      "Data columns (total 15 columns):\n",
      " #   Column                    Non-Null Count   Dtype         \n",
      "---  ------                    --------------   -----         \n",
      " 0   Unnamed: 0                251079 non-null  int64         \n",
      " 1   brand                     251079 non-null  object        \n",
      " 2   model                     251079 non-null  object        \n",
      " 3   color                     250913 non-null  object        \n",
      " 4   registration_date         250882 non-null  datetime64[ns]\n",
      " 5   year                      250884 non-null  float64       \n",
      " 6   price_in_euro             250880 non-null  float64       \n",
      " 7   power_kw                  250786 non-null  float64       \n",
      " 8   power_ps                  250869 non-null  float64       \n",
      " 9   transmission_type         251079 non-null  object        \n",
      " 10  fuel_type                 251079 non-null  object        \n",
      " 11  fuel_consumption_l_100km  224206 non-null  object        \n",
      " 12  fuel_consumption_g_km     251079 non-null  object        \n",
      " 13  mileage_in_km             250927 non-null  float64       \n",
      " 14  offer_description         251078 non-null  object        \n",
      "dtypes: datetime64[ns](1), float64(5), int64(1), object(8)\n",
      "memory usage: 28.7+ MB\n"
     ]
    }
   ],
   "source": [
    "table[\"registration_date\"] = pandas.to_datetime(table[\"registration_date\"], errors=\"coerce\")\n",
    "table[\"year\"] = pandas.to_numeric(table[\"year\"], errors=\"coerce\")\n",
    "table[\"price_in_euro\"] = pandas.to_numeric(table[\"price_in_euro\"], errors=\"coerce\")\n",
    "table[\"power_kw\"] = pandas.to_numeric(table[\"power_kw\"], errors=\"coerce\")\n",
    "table[\"power_ps\"] = pandas.to_numeric(table[\"power_ps\"], errors=\"coerce\")\n",
    "table.info()"
   ]
  },
  {
   "cell_type": "code",
   "execution_count": 6,
   "id": "990f4588-8ff5-4af9-9706-928fd8fc776a",
   "metadata": {},
   "outputs": [
    {
     "name": "stdout",
     "output_type": "stream",
     "text": [
      "<class 'pandas.core.frame.DataFrame'>\n",
      "Index: 250692 entries, 0 to 251078\n",
      "Data columns (total 4 columns):\n",
      " #   Column         Non-Null Count   Dtype  \n",
      "---  ------         --------------   -----  \n",
      " 0   brand          250692 non-null  object \n",
      " 1   mileage_in_km  250692 non-null  float64\n",
      " 2   power_ps       250692 non-null  float64\n",
      " 3   price_in_euro  250692 non-null  float64\n",
      "dtypes: float64(3), object(1)\n",
      "memory usage: 9.6+ MB\n"
     ]
    }
   ],
   "source": [
    "clean_data = table[[\"brand\", \"mileage_in_km\", \"power_ps\", \"price_in_euro\"]]\n",
    "clean_data = clean_data.dropna()\n",
    "clean_data.info()"
   ]
  },
  {
   "cell_type": "code",
   "execution_count": 7,
   "id": "4b08cbd4-f83a-4706-968c-f50cef1b65fd",
   "metadata": {},
   "outputs": [],
   "source": [
    "# One Hot Encoding\n",
    "clean_data = pandas.get_dummies(clean_data)"
   ]
  },
  {
   "cell_type": "markdown",
   "id": "41952510-26a9-4e24-9c6c-9100068101d6",
   "metadata": {},
   "source": [
    "# 4. Prepare Data for ML"
   ]
  },
  {
   "cell_type": "markdown",
   "id": "6c42eea1-b226-4955-b9f7-bed9353cefc9",
   "metadata": {},
   "source": [
    "##  4.1 Input/Output Split"
   ]
  },
  {
   "cell_type": "code",
   "execution_count": 8,
   "id": "171dfbe6-84e8-464b-bf40-c1abcc8cde88",
   "metadata": {},
   "outputs": [],
   "source": [
    "x = clean_data.drop(\"price_in_euro\", axis=\"columns\")\n",
    "y = clean_data[[\"price_in_euro\"]]"
   ]
  },
  {
   "cell_type": "code",
   "execution_count": 9,
   "id": "af08232b-a2b2-4814-9b50-8680ff5dccda",
   "metadata": {},
   "outputs": [
    {
     "data": {
      "text/plain": [
       "(250692, 49)"
      ]
     },
     "execution_count": 9,
     "metadata": {},
     "output_type": "execute_result"
    }
   ],
   "source": [
    "x.shape"
   ]
  },
  {
   "cell_type": "code",
   "execution_count": 10,
   "id": "2ecd8320-cee8-4856-b670-9e8d674a44d0",
   "metadata": {},
   "outputs": [
    {
     "data": {
      "text/plain": [
       "(250692, 1)"
      ]
     },
     "execution_count": 10,
     "metadata": {},
     "output_type": "execute_result"
    }
   ],
   "source": [
    "y.shape"
   ]
  },
  {
   "cell_type": "markdown",
   "id": "73326dae-2b3f-4059-a69c-4a4e5a4d626c",
   "metadata": {},
   "source": [
    "## 4.2 Train/Test Split"
   ]
  },
  {
   "cell_type": "code",
   "execution_count": 11,
   "id": "9466339e-05b2-405a-9ab8-e1bff5c0c2ea",
   "metadata": {},
   "outputs": [],
   "source": [
    "from sklearn.model_selection import train_test_split\n",
    "x_train, x_test, y_train, y_test = train_test_split(x, y, test_size=0.2)"
   ]
  },
  {
   "cell_type": "code",
   "execution_count": 12,
   "id": "bdba9694-98e8-4c87-8fb5-0b8c3d09da48",
   "metadata": {},
   "outputs": [
    {
     "data": {
      "text/plain": [
       "(200553, 49)"
      ]
     },
     "execution_count": 12,
     "metadata": {},
     "output_type": "execute_result"
    }
   ],
   "source": [
    "x_train.shape"
   ]
  },
  {
   "cell_type": "code",
   "execution_count": 13,
   "id": "77ff34b2-0e22-43d4-9ba9-1dc7a18d2c48",
   "metadata": {},
   "outputs": [
    {
     "data": {
      "text/plain": [
       "(50139, 49)"
      ]
     },
     "execution_count": 13,
     "metadata": {},
     "output_type": "execute_result"
    }
   ],
   "source": [
    "x_test.shape"
   ]
  },
  {
   "cell_type": "code",
   "execution_count": 14,
   "id": "8683084c-fae0-43c9-b7b5-476a38fbb214",
   "metadata": {},
   "outputs": [
    {
     "data": {
      "text/plain": [
       "(200553, 1)"
      ]
     },
     "execution_count": 14,
     "metadata": {},
     "output_type": "execute_result"
    }
   ],
   "source": [
    "y_train.shape"
   ]
  },
  {
   "cell_type": "code",
   "execution_count": 15,
   "id": "cba45079-5020-460e-a1e2-8143c45df5e7",
   "metadata": {},
   "outputs": [
    {
     "data": {
      "text/plain": [
       "(50139, 1)"
      ]
     },
     "execution_count": 15,
     "metadata": {},
     "output_type": "execute_result"
    }
   ],
   "source": [
    "y_test.shape"
   ]
  },
  {
   "cell_type": "markdown",
   "id": "f3a32db4-92d8-4713-9bc8-33b67a08b029",
   "metadata": {},
   "source": [
    "## 4.3 Scaler"
   ]
  },
  {
   "cell_type": "code",
   "execution_count": 16,
   "id": "35100ca0-c89b-411d-84ca-3e4f9e0e7bda",
   "metadata": {},
   "outputs": [],
   "source": [
    "from sklearn.preprocessing import MinMaxScaler\n",
    "\n",
    "input_scaler = MinMaxScaler()\n",
    "input_scaler.fit(x_train)\n",
    "x_train_scaled = input_scaler.transform(x_train)\n",
    "\n",
    "output_scaler = MinMaxScaler()\n",
    "output_scaler.fit(y_train)\n",
    "y_train_scaled = output_scaler.transform(y_train)\n",
    "\n",
    "x_test_scaled = input_scaler.transform(x_test)\n",
    "y_test_scaled = output_scaler.transform(y_test)"
   ]
  },
  {
   "cell_type": "markdown",
   "id": "5d16c861",
   "metadata": {},
   "source": [
    "# 5. Custom Neuronal Network"
   ]
  },
  {
   "cell_type": "markdown",
   "id": "6fc20d88",
   "metadata": {},
   "source": [
    "1 x1 x2 ... x49      \n",
    "                        w0\n",
    "                        w1\n",
    "                        w2\n",
    "                        ...\n",
    "                        w49\n",
    "\n",
    "act = dot(input, weights) = 1 * w0 + x1 * w1 + x2 * w2 + ... + x49 * w49"
   ]
  },
  {
   "cell_type": "code",
   "execution_count": 17,
   "id": "ed625d08",
   "metadata": {},
   "outputs": [
    {
     "data": {
      "text/plain": [
       "array([ 0.65577748,  0.65254641,  0.52591381, -0.39205493,  0.50967156,\n",
       "        1.41121987, -1.04294628, -2.09813113, -0.17339057, -1.13189882,\n",
       "        0.3550851 ,  1.70097056, -0.6068834 , -0.79628062, -0.27593804,\n",
       "       -0.597543  , -2.01673802, -2.85407997, -0.44253783, -0.25148549,\n",
       "       -0.90219611,  0.07289142, -0.05817524, -0.81666254, -0.00752998,\n",
       "        1.53082473, -1.62105967,  1.23189553, -0.96824373,  0.2792577 ,\n",
       "        0.92183656, -1.40675507,  0.30017539, -0.39649336,  0.62405692,\n",
       "       -0.4489193 , -0.39649527, -0.87753991, -0.90114266, -1.37527137,\n",
       "       -0.89646174, -1.40849673, -0.76184952, -0.13105535, -0.93634001,\n",
       "        0.81847488, -0.1231139 , -2.93311468,  1.12037757, -0.16280386])"
      ]
     },
     "execution_count": 17,
     "metadata": {},
     "output_type": "execute_result"
    }
   ],
   "source": [
    "import numpy as np\n",
    "\n",
    "N = x_train.shape[1] + 1 # +1 for the bias \n",
    "\n",
    "# Random weights\n",
    "weight_vector = np.random.normal(loc=0.0, scale=1.0, size=N)\n",
    "weight_vector"
   ]
  },
  {
   "cell_type": "code",
   "execution_count": 18,
   "id": "4f610998",
   "metadata": {},
   "outputs": [
    {
     "data": {
      "text/plain": [
       "array([1.        , 0.00394737, 0.45991984, 0.        , 0.        ,\n",
       "       0.        , 0.        , 0.        , 0.        , 0.        ,\n",
       "       0.        , 0.        , 0.        , 0.        , 0.        ,\n",
       "       0.        , 1.        , 0.        , 0.        , 0.        ,\n",
       "       0.        , 0.        , 0.        , 0.        , 0.        ,\n",
       "       0.        , 0.        , 0.        , 0.        , 0.        ,\n",
       "       0.        , 0.        , 0.        , 0.        , 0.        ,\n",
       "       0.        , 0.        , 0.        , 0.        , 0.        ,\n",
       "       0.        , 0.        , 0.        , 0.        , 0.        ,\n",
       "       0.        , 0.        , 0.        , 0.        , 0.        ])"
      ]
     },
     "execution_count": 18,
     "metadata": {},
     "output_type": "execute_result"
    }
   ],
   "source": [
    "# Input with bias\n",
    "input_vector = np.ones(N)\n",
    "input_vector[1:] = x_train_scaled[0]\n",
    "input_vector"
   ]
  },
  {
   "cell_type": "code",
   "execution_count": 19,
   "id": "aa044526",
   "metadata": {},
   "outputs": [
    {
     "data": {
      "text/plain": [
       "np.float64(-1.1165065054916046)"
      ]
     },
     "execution_count": 19,
     "metadata": {},
     "output_type": "execute_result"
    }
   ],
   "source": [
    "# Activity from input and weights\n",
    "activity = np.dot(weight_vector, input_vector)\n",
    "activity"
   ]
  },
  {
   "cell_type": "code",
   "execution_count": 20,
   "id": "bd5822b8",
   "metadata": {},
   "outputs": [
    {
     "data": {
      "text/plain": [
       "np.float64(0.0)"
      ]
     },
     "execution_count": 20,
     "metadata": {},
     "output_type": "execute_result"
    }
   ],
   "source": [
    "# ReLU activation function to calculate output\n",
    "def relu(x):\n",
    "    return np.maximum(0, x)\n",
    "\n",
    "out = relu(activity)\n",
    "out"
   ]
  },
  {
   "cell_type": "markdown",
   "id": "91fce301",
   "metadata": {},
   "source": [
    "# 6. Score Model"
   ]
  },
  {
   "cell_type": "code",
   "execution_count": 21,
   "id": "8a10d2e5",
   "metadata": {},
   "outputs": [
    {
     "data": {
      "text/plain": [
       "(50139, 49)"
      ]
     },
     "execution_count": 21,
     "metadata": {},
     "output_type": "execute_result"
    }
   ],
   "source": [
    "x_test_scaled.shape"
   ]
  },
  {
   "cell_type": "code",
   "execution_count": 22,
   "id": "14847c7f",
   "metadata": {},
   "outputs": [],
   "source": [
    "def score_model():\n",
    "    test_count = x_test_scaled.shape[0]\n",
    "\n",
    "    errors = []\n",
    "    for test_index in range(test_count):\n",
    "        # Feedforward\n",
    "        input_vector[1:] = x_test_scaled[test_index]\n",
    "        activity = np.dot(input_vector, weight_vector)\n",
    "\n",
    "        output = relu(activity)\n",
    "        output_unscaled = output_scaler.inverse_transform([[output]])\n",
    "\n",
    "        # Lerning\n",
    "        target = y_test_scaled[test_index][0]\n",
    "        target_unscaled = output_scaler.inverse_transform([[target]])\n",
    "        \n",
    "        absolute_error = abs(target_unscaled - output_unscaled)\n",
    "        errors.append(absolute_error)\n",
    "\n",
    "    average_error = np.mean(errors)\n",
    "    return average_error"
   ]
  },
  {
   "cell_type": "code",
   "execution_count": 23,
   "id": "2f89c044",
   "metadata": {},
   "outputs": [
    {
     "data": {
      "text/plain": [
       "np.float64(4676864.310920511)"
      ]
     },
     "execution_count": 23,
     "metadata": {},
     "output_type": "execute_result"
    }
   ],
   "source": [
    "score_model()"
   ]
  },
  {
   "cell_type": "markdown",
   "id": "4e39e0aa",
   "metadata": {},
   "source": [
    "# All in one"
   ]
  },
  {
   "cell_type": "code",
   "execution_count": 111,
   "id": "02012f7e",
   "metadata": {},
   "outputs": [],
   "source": [
    "import numpy as np\n",
    "\n",
    "def relu(x):\n",
    "    return np.maximum(0, x)\n",
    "\n",
    "example_count = x_train_scaled.shape[0]\n",
    "input_length = x_train_scaled.shape[1] + 1\n",
    "\n",
    "weight_vector = np.random.normal(loc=0.0, scale=1.0, size=input_length)\n",
    "input_vector = np.ones(N)\n",
    "\n",
    "errors = []\n",
    "average_errors = []"
   ]
  },
  {
   "cell_type": "code",
   "execution_count": 112,
   "id": "96ccbefd",
   "metadata": {},
   "outputs": [],
   "source": [
    "epoch_count = 1\n",
    "learning_rate = 0.01\n",
    "for epoch in range(epoch_count):\n",
    "    for example_index in range(example_count):\n",
    "        # Feedforward\n",
    "        input_vector[1:] = x_train_scaled[example_index]\n",
    "        activity = np.dot(weight_vector, input_vector)\n",
    "        output = relu(activity)\n",
    "\n",
    "        # Learning\n",
    "        target = y_train_scaled[example_index][0]\n",
    "        error = target - output\n",
    "        \n",
    "        # Perceptron learning rule\n",
    "        weight_vector += learning_rate * error * input_vector\n",
    "\n",
    "        # Calculate error\n",
    "        errors.append(abs(error))\n",
    "        if (example_index + 1) % 1000 == 0:\n",
    "            average_errors.append(np.mean(errors))\n",
    "            errors = []"
   ]
  },
  {
   "cell_type": "code",
   "execution_count": 113,
   "id": "102705ee",
   "metadata": {},
   "outputs": [
    {
     "data": {
      "image/png": "[encoded data removed]",
      "text/plain": [
       "<Figure size 640x480 with 1 Axes>"
      ]
     },
     "metadata": {},
     "output_type": "display_data"
    }
   ],
   "source": [
    "import matplotlib.pyplot as plt\n",
    "\n",
    "average_errors_unscaled = output_scaler.inverse_transform(np.array(average_errors).reshape(-1, 1))\n",
    "\n",
    "plt.plot(average_errors_unscaled)\n",
    "plt.show()"
   ]
  },
  {
   "cell_type": "code",
   "execution_count": 45,
   "id": "7a1554cd",
   "metadata": {},
   "outputs": [
    {
     "data": {
      "text/plain": [
       "np.float64(7836.078462409687)"
      ]
     },
     "execution_count": 45,
     "metadata": {},
     "output_type": "execute_result"
    }
   ],
   "source": [
    "score_model()"
   ]
  },
  {
   "cell_type": "markdown",
   "id": "3c2e4bc8",
   "metadata": {},
   "source": [
    "# Batch Processing"
   ]
  },
  {
   "cell_type": "code",
   "execution_count": 101,
   "id": "78124b3b",
   "metadata": {},
   "outputs": [
    {
     "data": {
      "image/png": "[encoded data removed]",
      "text/plain": [
       "<Figure size 640x480 with 1 Axes>"
      ]
     },
     "metadata": {},
     "output_type": "display_data"
    }
   ],
   "source": [
    "example_count = x_train_scaled.shape[0]\n",
    "input_length = x_train_scaled.shape[1] + 1\n",
    "\n",
    "weight_vector = np.random.normal(loc=0.0, scale=1.0, size=(input_length,))\n",
    "input_vectors = np.hstack([np.ones((example_count, 1)), x_train_scaled])\n",
    "\n",
    "targets = y_train_scaled[:, 0]\n",
    "\n",
    "epoch_count = 100\n",
    "learning_rate = 0.01\n",
    "\n",
    "average_errors = []\n",
    "\n",
    "for epoch in range(epoch_count):\n",
    "    activity = np.dot(input_vectors, weight_vector)\n",
    "    output = relu(activity)\n",
    "    errors = targets - output\n",
    "    weight_vector += learning_rate * np.dot(input_vectors.T, errors)\n",
    "\n",
    "    average_errors.append(np.mean(np.abs(errors)))\n",
    "\n",
    "import matplotlib.pyplot as plt\n",
    "\n",
    "average_errors_unscaled = output_scaler.inverse_transform(np.array(average_errors).reshape(-1, 1))\n",
    "\n",
    "plt.plot(average_errors_unscaled)\n",
    "plt.show()"
   ]
  },
  {
   "cell_type": "code",
   "execution_count": null,
   "id": "eb0d9944",
   "metadata": {},
   "outputs": [],
   "source": []
  }
 ],
 "metadata": {
  "kernelspec": {
   "display_name": "Python 3",
   "language": "python",
   "name": "python3"
  },
  "language_info": {
   "codemirror_mode": {
    "name": "ipython",
    "version": 3
   },
   "file_extension": ".py",
   "mimetype": "text/x-python",
   "name": "python",
   "nbconvert_exporter": "python",
   "pygments_lexer": "ipython3",
   "version": "3.11.3"
  }
 },
 "nbformat": 4,
 "nbformat_minor": 5
}
