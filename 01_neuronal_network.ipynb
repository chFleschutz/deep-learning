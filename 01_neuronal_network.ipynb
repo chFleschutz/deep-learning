{
 "cells": [
  {
   "cell_type": "markdown",
   "id": "6c59c194",
   "metadata": {},
   "source": [
    "# Prerequisites"
   ]
  },
  {
   "cell_type": "code",
   "execution_count": 3,
   "id": "d4db9f30",
   "metadata": {},
   "outputs": [
    {
     "name": "stdout",
     "output_type": "stream",
     "text": [
      "Requirement already satisfied: scikit-learn in c:\\users\\chfle\\appdata\\local\\programs\\python\\python311\\lib\\site-packages (1.5.2)\n",
      "Requirement already satisfied: numpy>=1.19.5 in c:\\users\\chfle\\appdata\\local\\programs\\python\\python311\\lib\\site-packages (from scikit-learn) (2.1.2)\n",
      "Requirement already satisfied: scipy>=1.6.0 in c:\\users\\chfle\\appdata\\local\\programs\\python\\python311\\lib\\site-packages (from scikit-learn) (1.14.1)\n",
      "Requirement already satisfied: joblib>=1.2.0 in c:\\users\\chfle\\appdata\\local\\programs\\python\\python311\\lib\\site-packages (from scikit-learn) (1.4.2)\n",
      "Requirement already satisfied: threadpoolctl>=3.1.0 in c:\\users\\chfle\\appdata\\local\\programs\\python\\python311\\lib\\site-packages (from scikit-learn) (3.5.0)\n",
      "Note: you may need to restart the kernel to use updated packages.\n",
      "Collecting pandas\n",
      "  Downloading pandas-2.2.3-cp311-cp311-win_amd64.whl.metadata (19 kB)\n",
      "Requirement already satisfied: numpy>=1.23.2 in c:\\users\\chfle\\appdata\\local\\programs\\python\\python311\\lib\\site-packages (from pandas) (2.1.2)\n",
      "Requirement already satisfied: python-dateutil>=2.8.2 in c:\\users\\chfle\\appdata\\local\\programs\\python\\python311\\lib\\site-packages (from pandas) (2.9.0.post0)\n",
      "Collecting pytz>=2020.1 (from pandas)\n",
      "  Downloading pytz-2024.2-py2.py3-none-any.whl.metadata (22 kB)\n",
      "Collecting tzdata>=2022.7 (from pandas)\n",
      "  Downloading tzdata-2024.2-py2.py3-none-any.whl.metadata (1.4 kB)\n",
      "Requirement already satisfied: six>=1.5 in c:\\users\\chfle\\appdata\\local\\programs\\python\\python311\\lib\\site-packages (from python-dateutil>=2.8.2->pandas) (1.16.0)\n",
      "Downloading pandas-2.2.3-cp311-cp311-win_amd64.whl (11.6 MB)\n",
      "   ---------------------------------------- 0.0/11.6 MB ? eta -:--:--\n",
      "   ------- -------------------------------- 2.1/11.6 MB 11.8 MB/s eta 0:00:01\n",
      "   --------------- ------------------------ 4.5/11.6 MB 11.7 MB/s eta 0:00:01\n",
      "   ------------------------ --------------- 7.1/11.6 MB 11.8 MB/s eta 0:00:01\n",
      "   -------------------------------- ------- 9.4/11.6 MB 11.7 MB/s eta 0:00:01\n",
      "   ---------------------------------------- 11.6/11.6 MB 11.5 MB/s eta 0:00:00\n",
      "Downloading pytz-2024.2-py2.py3-none-any.whl (508 kB)\n",
      "Downloading tzdata-2024.2-py2.py3-none-any.whl (346 kB)\n",
      "Installing collected packages: pytz, tzdata, pandas\n",
      "Successfully installed pandas-2.2.3 pytz-2024.2 tzdata-2024.2\n",
      "Note: you may need to restart the kernel to use updated packages.\n"
     ]
    }
   ],
   "source": [
    "%pip install scikit-learn\n",
    "%pip install pandas"
   ]
  },
  {
   "cell_type": "markdown",
   "id": "b0ae5d54-1e80-4748-90b6-3bacde1d76b0",
   "metadata": {},
   "source": [
    "# 1. Download Dataset"
   ]
  },
  {
   "cell_type": "code",
   "execution_count": 2,
   "id": "e1cd2d92-8bbd-4e13-93ad-8237f1d8f06a",
   "metadata": {},
   "outputs": [],
   "source": [
    "filename = \"used_cars_autoscout24.csv\"\n",
    "URL = \"http://www.juergenbrauer.org/datasets/\" + filename\n",
    "\n",
    "# import urllib.request\n",
    "# urllib.request.urlretrieve(URL, filename)"
   ]
  },
  {
   "cell_type": "markdown",
   "id": "660966fc-5f2c-42d2-ac7d-ec00ca80dcc8",
   "metadata": {},
   "source": [
    "# 2. Read Data"
   ]
  },
  {
   "cell_type": "code",
   "execution_count": 3,
   "id": "0e6e2ea7-62e1-44e6-8d8e-6036d9ef8f81",
   "metadata": {},
   "outputs": [
    {
     "data": {
      "text/html": [
       "<div>\n",
       "<style scoped>\n",
       "    .dataframe tbody tr th:only-of-type {\n",
       "        vertical-align: middle;\n",
       "    }\n",
       "\n",
       "    .dataframe tbody tr th {\n",
       "        vertical-align: top;\n",
       "    }\n",
       "\n",
       "    .dataframe thead th {\n",
       "        text-align: right;\n",
       "    }\n",
       "</style>\n",
       "<table border=\"1\" class=\"dataframe\">\n",
       "  <thead>\n",
       "    <tr style=\"text-align: right;\">\n",
       "      <th></th>\n",
       "      <th>Unnamed: 0</th>\n",
       "      <th>brand</th>\n",
       "      <th>model</th>\n",
       "      <th>color</th>\n",
       "      <th>registration_date</th>\n",
       "      <th>year</th>\n",
       "      <th>price_in_euro</th>\n",
       "      <th>power_kw</th>\n",
       "      <th>power_ps</th>\n",
       "      <th>transmission_type</th>\n",
       "      <th>fuel_type</th>\n",
       "      <th>fuel_consumption_l_100km</th>\n",
       "      <th>fuel_consumption_g_km</th>\n",
       "      <th>mileage_in_km</th>\n",
       "      <th>offer_description</th>\n",
       "    </tr>\n",
       "  </thead>\n",
       "  <tbody>\n",
       "    <tr>\n",
       "      <th>0</th>\n",
       "      <td>0</td>\n",
       "      <td>alfa-romeo</td>\n",
       "      <td>Alfa Romeo GTV</td>\n",
       "      <td>red</td>\n",
       "      <td>10/1995</td>\n",
       "      <td>1995</td>\n",
       "      <td>1300</td>\n",
       "      <td>148</td>\n",
       "      <td>201</td>\n",
       "      <td>Manual</td>\n",
       "      <td>Petrol</td>\n",
       "      <td>10,9 l/100 km</td>\n",
       "      <td>260 g/km</td>\n",
       "      <td>160500.0</td>\n",
       "      <td>2.0 V6 TB</td>\n",
       "    </tr>\n",
       "    <tr>\n",
       "      <th>1</th>\n",
       "      <td>1</td>\n",
       "      <td>alfa-romeo</td>\n",
       "      <td>Alfa Romeo 164</td>\n",
       "      <td>black</td>\n",
       "      <td>02/1995</td>\n",
       "      <td>1995</td>\n",
       "      <td>24900</td>\n",
       "      <td>191</td>\n",
       "      <td>260</td>\n",
       "      <td>Manual</td>\n",
       "      <td>Petrol</td>\n",
       "      <td>NaN</td>\n",
       "      <td>- (g/km)</td>\n",
       "      <td>190000.0</td>\n",
       "      <td>Q4 Allrad, 3.2L GTA</td>\n",
       "    </tr>\n",
       "    <tr>\n",
       "      <th>2</th>\n",
       "      <td>2</td>\n",
       "      <td>alfa-romeo</td>\n",
       "      <td>Alfa Romeo Spider</td>\n",
       "      <td>black</td>\n",
       "      <td>02/1995</td>\n",
       "      <td>1995</td>\n",
       "      <td>5900</td>\n",
       "      <td>110</td>\n",
       "      <td>150</td>\n",
       "      <td>Unknown</td>\n",
       "      <td>Petrol</td>\n",
       "      <td>NaN</td>\n",
       "      <td>- (g/km)</td>\n",
       "      <td>129000.0</td>\n",
       "      <td>ALFA ROME 916</td>\n",
       "    </tr>\n",
       "    <tr>\n",
       "      <th>3</th>\n",
       "      <td>3</td>\n",
       "      <td>alfa-romeo</td>\n",
       "      <td>Alfa Romeo Spider</td>\n",
       "      <td>black</td>\n",
       "      <td>07/1995</td>\n",
       "      <td>1995</td>\n",
       "      <td>4900</td>\n",
       "      <td>110</td>\n",
       "      <td>150</td>\n",
       "      <td>Manual</td>\n",
       "      <td>Petrol</td>\n",
       "      <td>9,5 l/100 km</td>\n",
       "      <td>225 g/km</td>\n",
       "      <td>189500.0</td>\n",
       "      <td>2.0 16V Twin Spark L</td>\n",
       "    </tr>\n",
       "    <tr>\n",
       "      <th>4</th>\n",
       "      <td>4</td>\n",
       "      <td>alfa-romeo</td>\n",
       "      <td>Alfa Romeo 164</td>\n",
       "      <td>red</td>\n",
       "      <td>11/1996</td>\n",
       "      <td>1996</td>\n",
       "      <td>17950</td>\n",
       "      <td>132</td>\n",
       "      <td>179</td>\n",
       "      <td>Manual</td>\n",
       "      <td>Petrol</td>\n",
       "      <td>7,2 l/100 km</td>\n",
       "      <td>- (g/km)</td>\n",
       "      <td>96127.0</td>\n",
       "      <td>3.0i Super V6, absoluter Topzustand !</td>\n",
       "    </tr>\n",
       "  </tbody>\n",
       "</table>\n",
       "</div>"
      ],
      "text/plain": [
       "   Unnamed: 0       brand              model  color registration_date  year  \\\n",
       "0           0  alfa-romeo     Alfa Romeo GTV    red           10/1995  1995   \n",
       "1           1  alfa-romeo     Alfa Romeo 164  black           02/1995  1995   \n",
       "2           2  alfa-romeo  Alfa Romeo Spider  black           02/1995  1995   \n",
       "3           3  alfa-romeo  Alfa Romeo Spider  black           07/1995  1995   \n",
       "4           4  alfa-romeo     Alfa Romeo 164    red           11/1996  1996   \n",
       "\n",
       "  price_in_euro power_kw power_ps transmission_type fuel_type  \\\n",
       "0          1300      148      201            Manual    Petrol   \n",
       "1         24900      191      260            Manual    Petrol   \n",
       "2          5900      110      150           Unknown    Petrol   \n",
       "3          4900      110      150            Manual    Petrol   \n",
       "4         17950      132      179            Manual    Petrol   \n",
       "\n",
       "  fuel_consumption_l_100km fuel_consumption_g_km  mileage_in_km  \\\n",
       "0            10,9 l/100 km              260 g/km       160500.0   \n",
       "1                      NaN              - (g/km)       190000.0   \n",
       "2                      NaN              - (g/km)       129000.0   \n",
       "3             9,5 l/100 km              225 g/km       189500.0   \n",
       "4             7,2 l/100 km              - (g/km)        96127.0   \n",
       "\n",
       "                       offer_description  \n",
       "0                              2.0 V6 TB  \n",
       "1                    Q4 Allrad, 3.2L GTA  \n",
       "2                          ALFA ROME 916  \n",
       "3                   2.0 16V Twin Spark L  \n",
       "4  3.0i Super V6, absoluter Topzustand !  "
      ]
     },
     "execution_count": 3,
     "metadata": {},
     "output_type": "execute_result"
    }
   ],
   "source": [
    "import pandas\n",
    "table = pandas.read_csv(filename)\n",
    "table.head(5)"
   ]
  },
  {
   "cell_type": "markdown",
   "id": "60186961-d3f4-4df4-94d4-5324b3dc97e7",
   "metadata": {},
   "source": [
    "# 3. Clean Data"
   ]
  },
  {
   "cell_type": "code",
   "execution_count": 13,
   "id": "ece068fd-99af-40b5-b884-4e5121ad89d6",
   "metadata": {},
   "outputs": [
    {
     "name": "stdout",
     "output_type": "stream",
     "text": [
      "<class 'pandas.core.frame.DataFrame'>\n",
      "RangeIndex: 251079 entries, 0 to 251078\n",
      "Data columns (total 15 columns):\n",
      " #   Column                    Non-Null Count   Dtype         \n",
      "---  ------                    --------------   -----         \n",
      " 0   Unnamed: 0                251079 non-null  int64         \n",
      " 1   brand                     251079 non-null  object        \n",
      " 2   model                     251079 non-null  object        \n",
      " 3   color                     250913 non-null  object        \n",
      " 4   registration_date         250882 non-null  datetime64[ns]\n",
      " 5   year                      250884 non-null  float64       \n",
      " 6   price_in_euro             250880 non-null  float64       \n",
      " 7   power_kw                  250786 non-null  float64       \n",
      " 8   power_ps                  250869 non-null  float64       \n",
      " 9   transmission_type         251079 non-null  object        \n",
      " 10  fuel_type                 251079 non-null  object        \n",
      " 11  fuel_consumption_l_100km  224206 non-null  object        \n",
      " 12  fuel_consumption_g_km     251079 non-null  object        \n",
      " 13  mileage_in_km             250927 non-null  float64       \n",
      " 14  offer_description         251078 non-null  object        \n",
      "dtypes: datetime64[ns](1), float64(5), int64(1), object(8)\n",
      "memory usage: 28.7+ MB\n"
     ]
    }
   ],
   "source": [
    "table[\"registration_date\"] = pandas.to_datetime(table[\"registration_date\"], errors=\"coerce\")\n",
    "table[\"year\"] = pandas.to_numeric(table[\"year\"], errors=\"coerce\")\n",
    "table[\"price_in_euro\"] = pandas.to_numeric(table[\"price_in_euro\"], errors=\"coerce\")\n",
    "table[\"power_kw\"] = pandas.to_numeric(table[\"power_kw\"], errors=\"coerce\")\n",
    "table[\"power_ps\"] = pandas.to_numeric(table[\"power_ps\"], errors=\"coerce\")\n",
    "table.info()"
   ]
  },
  {
   "cell_type": "code",
   "execution_count": 14,
   "id": "990f4588-8ff5-4af9-9706-928fd8fc776a",
   "metadata": {},
   "outputs": [
    {
     "name": "stdout",
     "output_type": "stream",
     "text": [
      "<class 'pandas.core.frame.DataFrame'>\n",
      "Int64Index: 250692 entries, 0 to 251078\n",
      "Data columns (total 4 columns):\n",
      " #   Column         Non-Null Count   Dtype  \n",
      "---  ------         --------------   -----  \n",
      " 0   brand          250692 non-null  object \n",
      " 1   mileage_in_km  250692 non-null  float64\n",
      " 2   power_ps       250692 non-null  float64\n",
      " 3   price_in_euro  250692 non-null  float64\n",
      "dtypes: float64(3), object(1)\n",
      "memory usage: 9.6+ MB\n"
     ]
    }
   ],
   "source": [
    "clean_data = table[[\"brand\", \"mileage_in_km\", \"power_ps\", \"price_in_euro\"]]\n",
    "clean_data = clean_data.dropna()\n",
    "clean_data.info()"
   ]
  },
  {
   "cell_type": "code",
   "execution_count": 15,
   "id": "4b08cbd4-f83a-4706-968c-f50cef1b65fd",
   "metadata": {},
   "outputs": [],
   "source": [
    "# One Hot Encoding\n",
    "clean_data = pandas.get_dummies(clean_data)"
   ]
  },
  {
   "cell_type": "markdown",
   "id": "41952510-26a9-4e24-9c6c-9100068101d6",
   "metadata": {},
   "source": [
    "# 4. Prepare Data for ML"
   ]
  },
  {
   "cell_type": "markdown",
   "id": "6c42eea1-b226-4955-b9f7-bed9353cefc9",
   "metadata": {},
   "source": [
    "##  4.1 Input/Output Split"
   ]
  },
  {
   "cell_type": "code",
   "execution_count": 58,
   "id": "171dfbe6-84e8-464b-bf40-c1abcc8cde88",
   "metadata": {},
   "outputs": [],
   "source": [
    "x = clean_data.drop(\"price_in_euro\", axis=\"columns\")\n",
    "y = clean_data[[\"price_in_euro\"]]"
   ]
  },
  {
   "cell_type": "code",
   "execution_count": 29,
   "id": "af08232b-a2b2-4814-9b50-8680ff5dccda",
   "metadata": {},
   "outputs": [
    {
     "data": {
      "text/plain": [
       "(250692, 49)"
      ]
     },
     "execution_count": 29,
     "metadata": {},
     "output_type": "execute_result"
    }
   ],
   "source": [
    "x.shape"
   ]
  },
  {
   "cell_type": "code",
   "execution_count": 31,
   "id": "2ecd8320-cee8-4856-b670-9e8d674a44d0",
   "metadata": {},
   "outputs": [
    {
     "data": {
      "text/plain": [
       "(250692, 1)"
      ]
     },
     "execution_count": 31,
     "metadata": {},
     "output_type": "execute_result"
    }
   ],
   "source": [
    "y.shape"
   ]
  },
  {
   "cell_type": "markdown",
   "id": "73326dae-2b3f-4059-a69c-4a4e5a4d626c",
   "metadata": {},
   "source": [
    "## 4.2 Train/Test Split"
   ]
  },
  {
   "cell_type": "code",
   "execution_count": 70,
   "id": "9466339e-05b2-405a-9ab8-e1bff5c0c2ea",
   "metadata": {},
   "outputs": [],
   "source": [
    "from sklearn.model_selection import train_test_split\n",
    "x_train, x_test, y_train, y_test = train_test_split(x, y, test_size=0.2)"
   ]
  },
  {
   "cell_type": "code",
   "execution_count": 72,
   "id": "bdba9694-98e8-4c87-8fb5-0b8c3d09da48",
   "metadata": {},
   "outputs": [
    {
     "data": {
      "text/plain": [
       "(200553, 49)"
      ]
     },
     "execution_count": 72,
     "metadata": {},
     "output_type": "execute_result"
    }
   ],
   "source": [
    "x_train.shape"
   ]
  },
  {
   "cell_type": "code",
   "execution_count": 74,
   "id": "77ff34b2-0e22-43d4-9ba9-1dc7a18d2c48",
   "metadata": {},
   "outputs": [
    {
     "data": {
      "text/plain": [
       "(50139, 49)"
      ]
     },
     "execution_count": 74,
     "metadata": {},
     "output_type": "execute_result"
    }
   ],
   "source": [
    "x_test.shape"
   ]
  },
  {
   "cell_type": "code",
   "execution_count": 76,
   "id": "8683084c-fae0-43c9-b7b5-476a38fbb214",
   "metadata": {},
   "outputs": [
    {
     "data": {
      "text/plain": [
       "(200553, 1)"
      ]
     },
     "execution_count": 76,
     "metadata": {},
     "output_type": "execute_result"
    }
   ],
   "source": [
    "y_train.shape"
   ]
  },
  {
   "cell_type": "code",
   "execution_count": 78,
   "id": "cba45079-5020-460e-a1e2-8143c45df5e7",
   "metadata": {},
   "outputs": [
    {
     "data": {
      "text/plain": [
       "(50139, 1)"
      ]
     },
     "execution_count": 78,
     "metadata": {},
     "output_type": "execute_result"
    }
   ],
   "source": [
    "y_test.shape"
   ]
  },
  {
   "cell_type": "markdown",
   "id": "f3a32db4-92d8-4713-9bc8-33b67a08b029",
   "metadata": {},
   "source": [
    "## 4.3 Scale\n"
   ]
  },
  {
   "cell_type": "code",
   "execution_count": 87,
   "id": "35100ca0-c89b-411d-84ca-3e4f9e0e7bda",
   "metadata": {},
   "outputs": [],
   "source": [
    "from sklearn.preprocessing import MinMaxScaler\n",
    "\n",
    "input_scaler = MinMaxScaler()\n",
    "input_scaler.fit(x_train)\n",
    "x_train_scaled = input_scaler.transform(x_train)\n",
    "\n",
    "output_scaler = MinMaxScaler()\n",
    "output_scaler.fit(y_train)\n",
    "y_train_scaled = output_scaler.transform(y_train)"
   ]
  },
  {
   "cell_type": "code",
   "execution_count": null,
   "id": "147a52aa-1e72-4451-b550-cd8d977e6ed2",
   "metadata": {},
   "outputs": [],
   "source": []
  }
 ],
 "metadata": {
  "kernelspec": {
   "display_name": "Python 3",
   "language": "python",
   "name": "python3"
  },
  "language_info": {
   "codemirror_mode": {
    "name": "ipython",
    "version": 3
   },
   "file_extension": ".py",
   "mimetype": "text/x-python",
   "name": "python",
   "nbconvert_exporter": "python",
   "pygments_lexer": "ipython3",
   "version": "3.11.3"
  }
 },
 "nbformat": 4,
 "nbformat_minor": 5
}
